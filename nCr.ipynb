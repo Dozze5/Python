{
 "cells": [
  {
   "cell_type": "code",
   "execution_count": null,
   "metadata": {},
   "outputs": [],
   "source": [
    "def C(n,r):\n",
    "    if(n == r or r == 0):\n",
    "        return 1\n",
    "    return C(n-1,r-1)+C(n-1,r)\n",
    "n = int(input())\n",
    "r = int(input())\n",
    "\n",
    "\n",
    "if(n<r or n<0 or r<0):\n",
    "    print(\"\\n\\n\\tInvalid\\n\\n\")\n",
    "\n",
    "elif(n == r or r == 0):\n",
    "    print(\"\\n\\n 1 \\n\\n\")\n",
    "else:\n",
    "    print(C(n,r))"
   ]
  },
  {
   "cell_type": "markdown",
   "metadata": {},
   "source": [
    "\n",
    "# Jupter"
   ]
  }
 ],
 "metadata": {
  "kernelspec": {
   "display_name": "base",
   "language": "python",
   "name": "python3"
  },
  "language_info": {
   "codemirror_mode": {
    "name": "ipython",
    "version": 3
   },
   "file_extension": ".py",
   "mimetype": "text/x-python",
   "name": "python",
   "nbconvert_exporter": "python",
   "pygments_lexer": "ipython3",
   "version": "3.11.4"
  },
  "orig_nbformat": 4
 },
 "nbformat": 4,
 "nbformat_minor": 2
}
